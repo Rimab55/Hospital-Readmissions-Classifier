{
 "cells": [
  {
   "cell_type": "code",
   "execution_count": 926,
   "metadata": {},
   "outputs": [],
   "source": [
    "# Import necessary packages\n",
    "import pandas as pd\n",
    "import numpy as np\n",
    "from bs4 import BeautifulSoup\n",
    "import requests\n",
    "import seaborn as sns\n",
    "import matplotlib.pyplot as plt\n",
    "import collections\n",
    "from sklearn.preprocessing import LabelEncoder, Normalizer\n",
    "from sklearn.model_selection import train_test_split\n",
    "from sklearn.metrics import accuracy_score, confusion_matrix, classification_report\n",
    "from sklearn.tree import DecisionTreeClassifier\n",
    "from sklearn.ensemble import BaggingClassifier, RandomForestClassifier\n",
    "from sklearn.neighbors import KNeighborsClassifier as KNN"
   ]
  },
  {
   "cell_type": "code",
   "execution_count": 843,
   "metadata": {},
   "outputs": [],
   "source": [
    "df = pd.read_csv('diabetic_data.csv')"
   ]
  },
  {
   "cell_type": "code",
   "execution_count": 844,
   "metadata": {
    "scrolled": true
   },
   "outputs": [
    {
     "data": {
      "text/plain": [
       "(101766, 50)"
      ]
     },
     "execution_count": 844,
     "metadata": {},
     "output_type": "execute_result"
    }
   ],
   "source": [
    "df.shape"
   ]
  },
  {
   "cell_type": "markdown",
   "metadata": {},
   "source": [
    "# Mapping Admission, Discharge & Admission Source Types"
   ]
  },
  {
   "cell_type": "code",
   "execution_count": 845,
   "metadata": {},
   "outputs": [],
   "source": [
    "mapping = pd.read_csv('IDs_mapping.csv')"
   ]
  },
  {
   "cell_type": "code",
   "execution_count": 846,
   "metadata": {
    "scrolled": false
   },
   "outputs": [],
   "source": [
    "admission_type_map = mapping[:8]\n",
    "discharge_type_map = mapping[10:40]\n",
    "admission_source_map = mapping[42:]\n",
    "discharge_type_map.columns = ['discharge_disposition_id','description']\n",
    "admission_source_map.columns = ['admission_source_id', 'description']"
   ]
  },
  {
   "cell_type": "code",
   "execution_count": 847,
   "metadata": {
    "scrolled": false
   },
   "outputs": [
    {
     "data": {
      "text/html": [
       "<div>\n",
       "<style scoped>\n",
       "    .dataframe tbody tr th:only-of-type {\n",
       "        vertical-align: middle;\n",
       "    }\n",
       "\n",
       "    .dataframe tbody tr th {\n",
       "        vertical-align: top;\n",
       "    }\n",
       "\n",
       "    .dataframe thead th {\n",
       "        text-align: right;\n",
       "    }\n",
       "</style>\n",
       "<table border=\"1\" class=\"dataframe\">\n",
       "  <thead>\n",
       "    <tr style=\"text-align: right;\">\n",
       "      <th></th>\n",
       "      <th>discharge_disposition_id</th>\n",
       "      <th>description</th>\n",
       "    </tr>\n",
       "  </thead>\n",
       "  <tbody>\n",
       "    <tr>\n",
       "      <th>10</th>\n",
       "      <td>1</td>\n",
       "      <td>Discharged to home</td>\n",
       "    </tr>\n",
       "    <tr>\n",
       "      <th>11</th>\n",
       "      <td>2</td>\n",
       "      <td>Discharged/transferred to another short term h...</td>\n",
       "    </tr>\n",
       "    <tr>\n",
       "      <th>12</th>\n",
       "      <td>3</td>\n",
       "      <td>Discharged/transferred to SNF</td>\n",
       "    </tr>\n",
       "    <tr>\n",
       "      <th>13</th>\n",
       "      <td>4</td>\n",
       "      <td>Discharged/transferred to ICF</td>\n",
       "    </tr>\n",
       "    <tr>\n",
       "      <th>14</th>\n",
       "      <td>5</td>\n",
       "      <td>Discharged/transferred to another type of inpa...</td>\n",
       "    </tr>\n",
       "  </tbody>\n",
       "</table>\n",
       "</div>"
      ],
      "text/plain": [
       "   discharge_disposition_id                                        description\n",
       "10                        1                                 Discharged to home\n",
       "11                        2  Discharged/transferred to another short term h...\n",
       "12                        3                      Discharged/transferred to SNF\n",
       "13                        4                      Discharged/transferred to ICF\n",
       "14                        5  Discharged/transferred to another type of inpa..."
      ]
     },
     "execution_count": 847,
     "metadata": {},
     "output_type": "execute_result"
    }
   ],
   "source": [
    "discharge_type_map.head()"
   ]
  },
  {
   "cell_type": "markdown",
   "metadata": {},
   "source": [
    "# Data Cleaning & Exploratory analysis"
   ]
  },
  {
   "cell_type": "code",
   "execution_count": 848,
   "metadata": {},
   "outputs": [],
   "source": [
    "# Removing discharge codes 11 (Expired), 13-14 (Hospice care), 19-21 (Expired)\n",
    "terminally_ill = [11,13,14,19,21]\n",
    "df = df[~df['discharge_disposition_id'].isin(terminally_ill)]"
   ]
  },
  {
   "cell_type": "code",
   "execution_count": 849,
   "metadata": {},
   "outputs": [],
   "source": [
    "# Removing NaN & Not mapped values\n",
    "df = df[~df['admission_type_id'].isin([6,8])]\n",
    "df = df[~df['admission_source_id'].isin([17,20])]\n",
    "df = df[~df['discharge_disposition_id'].isin([25])]"
   ]
  },
  {
   "cell_type": "code",
   "execution_count": 850,
   "metadata": {},
   "outputs": [],
   "source": [
    "# Replacing values into 0 for no change and 1 for change \n",
    "df.change = df.change.replace(to_replace = 'Ch', value = 1)\n",
    "df.change = df.change.replace(to_replace = 'No', value = 0)\n",
    "df.gender = df.gender.replace(to_replace = 'Female', value = 1)\n",
    "df.gender = df.gender.replace(to_replace = 'Male', value = 0)\n",
    "\n",
    "#change our diabetes values \n",
    "dm = {'Yes': 1, 'No': 0}\n",
    "df['diabetesMed'] = df['diabetesMed'].replace(to_replace = (dm), value=None)"
   ]
  },
  {
   "cell_type": "code",
   "execution_count": 851,
   "metadata": {
    "scrolled": false
   },
   "outputs": [
    {
     "data": {
      "text/html": [
       "<div>\n",
       "<style scoped>\n",
       "    .dataframe tbody tr th:only-of-type {\n",
       "        vertical-align: middle;\n",
       "    }\n",
       "\n",
       "    .dataframe tbody tr th {\n",
       "        vertical-align: top;\n",
       "    }\n",
       "\n",
       "    .dataframe thead th {\n",
       "        text-align: right;\n",
       "    }\n",
       "</style>\n",
       "<table border=\"1\" class=\"dataframe\">\n",
       "  <thead>\n",
       "    <tr style=\"text-align: right;\">\n",
       "      <th></th>\n",
       "      <th>patient_nbr</th>\n",
       "      <th>number_inpatient</th>\n",
       "      <th>readmitted</th>\n",
       "    </tr>\n",
       "  </thead>\n",
       "  <tbody>\n",
       "    <tr>\n",
       "      <th>4780</th>\n",
       "      <td>135</td>\n",
       "      <td>1</td>\n",
       "      <td>&gt;30</td>\n",
       "    </tr>\n",
       "    <tr>\n",
       "      <th>4267</th>\n",
       "      <td>135</td>\n",
       "      <td>0</td>\n",
       "      <td>&lt;30</td>\n",
       "    </tr>\n",
       "    <tr>\n",
       "      <th>23623</th>\n",
       "      <td>1152</td>\n",
       "      <td>1</td>\n",
       "      <td>&gt;30</td>\n",
       "    </tr>\n",
       "    <tr>\n",
       "      <th>24642</th>\n",
       "      <td>1152</td>\n",
       "      <td>2</td>\n",
       "      <td>NO</td>\n",
       "    </tr>\n",
       "    <tr>\n",
       "      <th>14180</th>\n",
       "      <td>1152</td>\n",
       "      <td>1</td>\n",
       "      <td>&gt;30</td>\n",
       "    </tr>\n",
       "  </tbody>\n",
       "</table>\n",
       "</div>"
      ],
      "text/plain": [
       "       patient_nbr  number_inpatient readmitted\n",
       "4780           135                 1        >30\n",
       "4267           135                 0        <30\n",
       "23623         1152                 1        >30\n",
       "24642         1152                 2         NO\n",
       "14180         1152                 1        >30"
      ]
     },
     "execution_count": 851,
     "metadata": {},
     "output_type": "execute_result"
    }
   ],
   "source": [
    "# Identifying duplicate patients\n",
    "\n",
    "duplicates = df[df.patient_nbr.isin(df.patient_nbr[df.patient_nbr.duplicated()])].sort_values(by = 'patient_nbr')\n",
    "duplicates[['patient_nbr', 'number_inpatient', 'readmitted']].head()"
   ]
  },
  {
   "cell_type": "code",
   "execution_count": 852,
   "metadata": {},
   "outputs": [],
   "source": [
    "# Dropping 3 rows where gender is unknown/invalid\n",
    "\n",
    "df.drop(df[df.gender == 'Unknown/Invalid'].index, inplace=True)"
   ]
  },
  {
   "cell_type": "code",
   "execution_count": 853,
   "metadata": {},
   "outputs": [
    {
     "data": {
      "text/plain": [
       "1    48534\n",
       "0    41447\n",
       "Name: gender, dtype: int64"
      ]
     },
     "execution_count": 853,
     "metadata": {},
     "output_type": "execute_result"
    }
   ],
   "source": [
    "df.gender.value_counts()"
   ]
  },
  {
   "cell_type": "code",
   "execution_count": 854,
   "metadata": {},
   "outputs": [
    {
     "data": {
      "text/plain": [
       "14921"
      ]
     },
     "execution_count": 854,
     "metadata": {},
     "output_type": "execute_result"
    }
   ],
   "source": [
    "# Number of repeated visits for patients\n",
    "(df.patient_nbr.value_counts() > 1).sum()"
   ]
  },
  {
   "cell_type": "code",
   "execution_count": 855,
   "metadata": {},
   "outputs": [],
   "source": [
    "# Dropping identification columns\n",
    "df.drop('patient_nbr', axis = 1, inplace= True) # Dropping identification column\n",
    "df.drop('payer_code', axis = 1, inplace= True) # Dropping Insurance information"
   ]
  },
  {
   "cell_type": "code",
   "execution_count": 856,
   "metadata": {},
   "outputs": [
    {
     "data": {
      "text/html": [
       "<div>\n",
       "<style scoped>\n",
       "    .dataframe tbody tr th:only-of-type {\n",
       "        vertical-align: middle;\n",
       "    }\n",
       "\n",
       "    .dataframe tbody tr th {\n",
       "        vertical-align: top;\n",
       "    }\n",
       "\n",
       "    .dataframe thead th {\n",
       "        text-align: right;\n",
       "    }\n",
       "</style>\n",
       "<table border=\"1\" class=\"dataframe\">\n",
       "  <thead>\n",
       "    <tr style=\"text-align: right;\">\n",
       "      <th></th>\n",
       "      <th>max_glu_serum</th>\n",
       "      <th>A1Cresult</th>\n",
       "      <th>metformin</th>\n",
       "      <th>repaglinide</th>\n",
       "      <th>nateglinide</th>\n",
       "      <th>chlorpropamide</th>\n",
       "      <th>glimepiride</th>\n",
       "      <th>acetohexamide</th>\n",
       "      <th>glipizide</th>\n",
       "      <th>glyburide</th>\n",
       "      <th>...</th>\n",
       "      <th>troglitazone</th>\n",
       "      <th>tolazamide</th>\n",
       "      <th>examide</th>\n",
       "      <th>citoglipton</th>\n",
       "      <th>insulin</th>\n",
       "      <th>glyburide-metformin</th>\n",
       "      <th>glipizide-metformin</th>\n",
       "      <th>glimepiride-pioglitazone</th>\n",
       "      <th>metformin-rosiglitazone</th>\n",
       "      <th>metformin-pioglitazone</th>\n",
       "    </tr>\n",
       "  </thead>\n",
       "  <tbody>\n",
       "    <tr>\n",
       "      <th>&gt;200</th>\n",
       "      <td>8.0</td>\n",
       "      <td>NaN</td>\n",
       "      <td>NaN</td>\n",
       "      <td>NaN</td>\n",
       "      <td>NaN</td>\n",
       "      <td>NaN</td>\n",
       "      <td>NaN</td>\n",
       "      <td>NaN</td>\n",
       "      <td>NaN</td>\n",
       "      <td>NaN</td>\n",
       "      <td>...</td>\n",
       "      <td>NaN</td>\n",
       "      <td>NaN</td>\n",
       "      <td>NaN</td>\n",
       "      <td>NaN</td>\n",
       "      <td>NaN</td>\n",
       "      <td>NaN</td>\n",
       "      <td>NaN</td>\n",
       "      <td>NaN</td>\n",
       "      <td>NaN</td>\n",
       "      <td>NaN</td>\n",
       "    </tr>\n",
       "    <tr>\n",
       "      <th>&gt;300</th>\n",
       "      <td>259.0</td>\n",
       "      <td>NaN</td>\n",
       "      <td>NaN</td>\n",
       "      <td>NaN</td>\n",
       "      <td>NaN</td>\n",
       "      <td>NaN</td>\n",
       "      <td>NaN</td>\n",
       "      <td>NaN</td>\n",
       "      <td>NaN</td>\n",
       "      <td>NaN</td>\n",
       "      <td>...</td>\n",
       "      <td>NaN</td>\n",
       "      <td>NaN</td>\n",
       "      <td>NaN</td>\n",
       "      <td>NaN</td>\n",
       "      <td>NaN</td>\n",
       "      <td>NaN</td>\n",
       "      <td>NaN</td>\n",
       "      <td>NaN</td>\n",
       "      <td>NaN</td>\n",
       "      <td>NaN</td>\n",
       "    </tr>\n",
       "    <tr>\n",
       "      <th>&gt;7</th>\n",
       "      <td>NaN</td>\n",
       "      <td>3564.0</td>\n",
       "      <td>NaN</td>\n",
       "      <td>NaN</td>\n",
       "      <td>NaN</td>\n",
       "      <td>NaN</td>\n",
       "      <td>NaN</td>\n",
       "      <td>NaN</td>\n",
       "      <td>NaN</td>\n",
       "      <td>NaN</td>\n",
       "      <td>...</td>\n",
       "      <td>NaN</td>\n",
       "      <td>NaN</td>\n",
       "      <td>NaN</td>\n",
       "      <td>NaN</td>\n",
       "      <td>NaN</td>\n",
       "      <td>NaN</td>\n",
       "      <td>NaN</td>\n",
       "      <td>NaN</td>\n",
       "      <td>NaN</td>\n",
       "      <td>NaN</td>\n",
       "    </tr>\n",
       "    <tr>\n",
       "      <th>&gt;8</th>\n",
       "      <td>NaN</td>\n",
       "      <td>7463.0</td>\n",
       "      <td>NaN</td>\n",
       "      <td>NaN</td>\n",
       "      <td>NaN</td>\n",
       "      <td>NaN</td>\n",
       "      <td>NaN</td>\n",
       "      <td>NaN</td>\n",
       "      <td>NaN</td>\n",
       "      <td>NaN</td>\n",
       "      <td>...</td>\n",
       "      <td>NaN</td>\n",
       "      <td>NaN</td>\n",
       "      <td>NaN</td>\n",
       "      <td>NaN</td>\n",
       "      <td>NaN</td>\n",
       "      <td>NaN</td>\n",
       "      <td>NaN</td>\n",
       "      <td>NaN</td>\n",
       "      <td>NaN</td>\n",
       "      <td>NaN</td>\n",
       "    </tr>\n",
       "    <tr>\n",
       "      <th>Down</th>\n",
       "      <td>NaN</td>\n",
       "      <td>NaN</td>\n",
       "      <td>526.0</td>\n",
       "      <td>42.0</td>\n",
       "      <td>10.0</td>\n",
       "      <td>1.0</td>\n",
       "      <td>179.0</td>\n",
       "      <td>NaN</td>\n",
       "      <td>483.0</td>\n",
       "      <td>494.0</td>\n",
       "      <td>...</td>\n",
       "      <td>NaN</td>\n",
       "      <td>NaN</td>\n",
       "      <td>NaN</td>\n",
       "      <td>NaN</td>\n",
       "      <td>10750.0</td>\n",
       "      <td>6.0</td>\n",
       "      <td>NaN</td>\n",
       "      <td>NaN</td>\n",
       "      <td>NaN</td>\n",
       "      <td>NaN</td>\n",
       "    </tr>\n",
       "    <tr>\n",
       "      <th>No</th>\n",
       "      <td>NaN</td>\n",
       "      <td>NaN</td>\n",
       "      <td>71756.0</td>\n",
       "      <td>88523.0</td>\n",
       "      <td>89310.0</td>\n",
       "      <td>89907.0</td>\n",
       "      <td>85174.0</td>\n",
       "      <td>89980.0</td>\n",
       "      <td>78807.0</td>\n",
       "      <td>80524.0</td>\n",
       "      <td>...</td>\n",
       "      <td>89979.0</td>\n",
       "      <td>89952.0</td>\n",
       "      <td>89981.0</td>\n",
       "      <td>89981.0</td>\n",
       "      <td>41606.0</td>\n",
       "      <td>89291.0</td>\n",
       "      <td>89968.0</td>\n",
       "      <td>89980.0</td>\n",
       "      <td>89979.0</td>\n",
       "      <td>89980.0</td>\n",
       "    </tr>\n",
       "    <tr>\n",
       "      <th>None</th>\n",
       "      <td>89668.0</td>\n",
       "      <td>74238.0</td>\n",
       "      <td>NaN</td>\n",
       "      <td>NaN</td>\n",
       "      <td>NaN</td>\n",
       "      <td>NaN</td>\n",
       "      <td>NaN</td>\n",
       "      <td>NaN</td>\n",
       "      <td>NaN</td>\n",
       "      <td>NaN</td>\n",
       "      <td>...</td>\n",
       "      <td>NaN</td>\n",
       "      <td>NaN</td>\n",
       "      <td>NaN</td>\n",
       "      <td>NaN</td>\n",
       "      <td>NaN</td>\n",
       "      <td>NaN</td>\n",
       "      <td>NaN</td>\n",
       "      <td>NaN</td>\n",
       "      <td>NaN</td>\n",
       "      <td>NaN</td>\n",
       "    </tr>\n",
       "    <tr>\n",
       "      <th>Norm</th>\n",
       "      <td>46.0</td>\n",
       "      <td>4716.0</td>\n",
       "      <td>NaN</td>\n",
       "      <td>NaN</td>\n",
       "      <td>NaN</td>\n",
       "      <td>NaN</td>\n",
       "      <td>NaN</td>\n",
       "      <td>NaN</td>\n",
       "      <td>NaN</td>\n",
       "      <td>NaN</td>\n",
       "      <td>...</td>\n",
       "      <td>NaN</td>\n",
       "      <td>NaN</td>\n",
       "      <td>NaN</td>\n",
       "      <td>NaN</td>\n",
       "      <td>NaN</td>\n",
       "      <td>NaN</td>\n",
       "      <td>NaN</td>\n",
       "      <td>NaN</td>\n",
       "      <td>NaN</td>\n",
       "      <td>NaN</td>\n",
       "    </tr>\n",
       "    <tr>\n",
       "      <th>Steady</th>\n",
       "      <td>NaN</td>\n",
       "      <td>NaN</td>\n",
       "      <td>16737.0</td>\n",
       "      <td>1312.0</td>\n",
       "      <td>639.0</td>\n",
       "      <td>67.0</td>\n",
       "      <td>4328.0</td>\n",
       "      <td>1.0</td>\n",
       "      <td>10028.0</td>\n",
       "      <td>8241.0</td>\n",
       "      <td>...</td>\n",
       "      <td>2.0</td>\n",
       "      <td>28.0</td>\n",
       "      <td>NaN</td>\n",
       "      <td>NaN</td>\n",
       "      <td>27515.0</td>\n",
       "      <td>677.0</td>\n",
       "      <td>13.0</td>\n",
       "      <td>1.0</td>\n",
       "      <td>2.0</td>\n",
       "      <td>1.0</td>\n",
       "    </tr>\n",
       "    <tr>\n",
       "      <th>Up</th>\n",
       "      <td>NaN</td>\n",
       "      <td>NaN</td>\n",
       "      <td>962.0</td>\n",
       "      <td>104.0</td>\n",
       "      <td>22.0</td>\n",
       "      <td>6.0</td>\n",
       "      <td>300.0</td>\n",
       "      <td>NaN</td>\n",
       "      <td>663.0</td>\n",
       "      <td>722.0</td>\n",
       "      <td>...</td>\n",
       "      <td>NaN</td>\n",
       "      <td>1.0</td>\n",
       "      <td>NaN</td>\n",
       "      <td>NaN</td>\n",
       "      <td>10110.0</td>\n",
       "      <td>7.0</td>\n",
       "      <td>NaN</td>\n",
       "      <td>NaN</td>\n",
       "      <td>NaN</td>\n",
       "      <td>NaN</td>\n",
       "    </tr>\n",
       "  </tbody>\n",
       "</table>\n",
       "<p>10 rows × 25 columns</p>\n",
       "</div>"
      ],
      "text/plain": [
       "        max_glu_serum  A1Cresult  metformin  repaglinide  nateglinide  \\\n",
       ">200              8.0        NaN        NaN          NaN          NaN   \n",
       ">300            259.0        NaN        NaN          NaN          NaN   \n",
       ">7                NaN     3564.0        NaN          NaN          NaN   \n",
       ">8                NaN     7463.0        NaN          NaN          NaN   \n",
       "Down              NaN        NaN      526.0         42.0         10.0   \n",
       "No                NaN        NaN    71756.0      88523.0      89310.0   \n",
       "None          89668.0    74238.0        NaN          NaN          NaN   \n",
       "Norm             46.0     4716.0        NaN          NaN          NaN   \n",
       "Steady            NaN        NaN    16737.0       1312.0        639.0   \n",
       "Up                NaN        NaN      962.0        104.0         22.0   \n",
       "\n",
       "        chlorpropamide  glimepiride  acetohexamide  glipizide  glyburide  \\\n",
       ">200               NaN          NaN            NaN        NaN        NaN   \n",
       ">300               NaN          NaN            NaN        NaN        NaN   \n",
       ">7                 NaN          NaN            NaN        NaN        NaN   \n",
       ">8                 NaN          NaN            NaN        NaN        NaN   \n",
       "Down               1.0        179.0            NaN      483.0      494.0   \n",
       "No             89907.0      85174.0        89980.0    78807.0    80524.0   \n",
       "None               NaN          NaN            NaN        NaN        NaN   \n",
       "Norm               NaN          NaN            NaN        NaN        NaN   \n",
       "Steady            67.0       4328.0            1.0    10028.0     8241.0   \n",
       "Up                 6.0        300.0            NaN      663.0      722.0   \n",
       "\n",
       "                 ...            troglitazone  tolazamide  examide  \\\n",
       ">200             ...                     NaN         NaN      NaN   \n",
       ">300             ...                     NaN         NaN      NaN   \n",
       ">7               ...                     NaN         NaN      NaN   \n",
       ">8               ...                     NaN         NaN      NaN   \n",
       "Down             ...                     NaN         NaN      NaN   \n",
       "No               ...                 89979.0     89952.0  89981.0   \n",
       "None             ...                     NaN         NaN      NaN   \n",
       "Norm             ...                     NaN         NaN      NaN   \n",
       "Steady           ...                     2.0        28.0      NaN   \n",
       "Up               ...                     NaN         1.0      NaN   \n",
       "\n",
       "        citoglipton  insulin  glyburide-metformin  glipizide-metformin  \\\n",
       ">200            NaN      NaN                  NaN                  NaN   \n",
       ">300            NaN      NaN                  NaN                  NaN   \n",
       ">7              NaN      NaN                  NaN                  NaN   \n",
       ">8              NaN      NaN                  NaN                  NaN   \n",
       "Down            NaN  10750.0                  6.0                  NaN   \n",
       "No          89981.0  41606.0              89291.0              89968.0   \n",
       "None            NaN      NaN                  NaN                  NaN   \n",
       "Norm            NaN      NaN                  NaN                  NaN   \n",
       "Steady          NaN  27515.0                677.0                 13.0   \n",
       "Up              NaN  10110.0                  7.0                  NaN   \n",
       "\n",
       "        glimepiride-pioglitazone  metformin-rosiglitazone  \\\n",
       ">200                         NaN                      NaN   \n",
       ">300                         NaN                      NaN   \n",
       ">7                           NaN                      NaN   \n",
       ">8                           NaN                      NaN   \n",
       "Down                         NaN                      NaN   \n",
       "No                       89980.0                  89979.0   \n",
       "None                         NaN                      NaN   \n",
       "Norm                         NaN                      NaN   \n",
       "Steady                       1.0                      2.0   \n",
       "Up                           NaN                      NaN   \n",
       "\n",
       "        metformin-pioglitazone  \n",
       ">200                       NaN  \n",
       ">300                       NaN  \n",
       ">7                         NaN  \n",
       ">8                         NaN  \n",
       "Down                       NaN  \n",
       "No                     89980.0  \n",
       "None                       NaN  \n",
       "Norm                       NaN  \n",
       "Steady                     1.0  \n",
       "Up                         NaN  \n",
       "\n",
       "[10 rows x 25 columns]"
      ]
     },
     "execution_count": 856,
     "metadata": {},
     "output_type": "execute_result"
    }
   ],
   "source": [
    "# Exploring medication values to drop columns containing no information based on value counts\n",
    "medication = ['max_glu_serum', 'A1Cresult','metformin', 'repaglinide', 'nateglinide', 'chlorpropamide',\n",
    "       'glimepiride', 'acetohexamide', 'glipizide', 'glyburide', 'tolbutamide',\n",
    "       'pioglitazone', 'rosiglitazone', 'acarbose', 'miglitol', 'troglitazone',\n",
    "       'tolazamide', 'examide', 'citoglipton', 'insulin',\n",
    "       'glyburide-metformin', 'glipizide-metformin',\n",
    "       'glimepiride-pioglitazone', 'metformin-rosiglitazone',\n",
    "       'metformin-pioglitazone']\n",
    "\n",
    "meds_df = df[medication].apply(pd.Series.value_counts)\n",
    "meds_df"
   ]
  },
  {
   "cell_type": "code",
   "execution_count": 857,
   "metadata": {
    "scrolled": true
   },
   "outputs": [],
   "source": [
    "# Dropping encounter_id & medication with less than 2 varying values\n",
    "df.drop(['encounter_id','metformin-pioglitazone','metformin-rosiglitazone',\n",
    "         'glimepiride-pioglitazone','troglitazone','acetohexamide','examide','citoglipton'], axis =1, inplace= True)"
   ]
  },
  {
   "cell_type": "markdown",
   "metadata": {},
   "source": [
    "> Many columns contain '?', None, Norm values which we decide to include in our data by replacing them into unambiguous values."
   ]
  },
  {
   "cell_type": "code",
   "execution_count": 858,
   "metadata": {},
   "outputs": [],
   "source": [
    "# Replacing '?' Values into appropriate values\n",
    "\n",
    "df.weight = df.weight.replace(to_replace='?', value='Not specified') # Not specified for Weight\n",
    "df.race = df.race.replace(to_replace='?', value='Not Specified') # 'Not specified for Race\n",
    "df.medical_specialty = df.medical_specialty.replace(to_replace='?', value='Not specified') # 'Not specified' for Med.Specialty\n",
    "df.max_glu_serum = df.max_glu_serum.replace(to_replace='None', value = 'Not measured') # According to https://www.hindawi.com/journals/bmri/2014/781670/tab1/\n",
    "df.max_glu_serum = df.max_glu_serum.replace(to_replace='Norm', value = 'Normal') # To make it more readable\n",
    "df.A1Cresult = df.A1Cresult.replace(to_replace='None', value = 'Not measured') # According to https://www.hindawi.com/journals/bmri/2014/781670/tab1/\n",
    "df.A1Cresult = df.A1Cresult.replace(to_replace='Norm', value = 'Normal') # To make it more readable"
   ]
  },
  {
   "cell_type": "markdown",
   "metadata": {},
   "source": [
    "# Target Variable: Setting Early (within 30 days) readmission to '1' "
   ]
  },
  {
   "cell_type": "code",
   "execution_count": 859,
   "metadata": {},
   "outputs": [
    {
     "data": {
      "text/plain": [
       "0"
      ]
     },
     "execution_count": 859,
     "metadata": {},
     "output_type": "execute_result"
    }
   ],
   "source": [
    "# Checking for NA values in target variable\n",
    "df.readmitted.isna().sum() "
   ]
  },
  {
   "cell_type": "code",
   "execution_count": 860,
   "metadata": {
    "scrolled": true
   },
   "outputs": [],
   "source": [
    "# Combining > 30 days before readmission and No as one category\n",
    "df.readmitted = df.readmitted.replace(to_replace='>30', value='0')\n",
    "df.readmitted = df.readmitted.replace(to_replace='NO', value='0')\n",
    "df.readmitted = df.readmitted.replace(to_replace='<30', value='1')"
   ]
  },
  {
   "cell_type": "code",
   "execution_count": 861,
   "metadata": {},
   "outputs": [],
   "source": [
    "# Changing Object type columns to int because values are 0 or 1\n",
    "df.readmitted = df.readmitted.astype(int)\n",
    "df.gender = df.gender.astype(int)"
   ]
  },
  {
   "cell_type": "markdown",
   "metadata": {},
   "source": [
    "## Verifying if Class Imbalance exists for target variable"
   ]
  },
  {
   "cell_type": "markdown",
   "metadata": {},
   "source": [
    "> The target variable identifying whether a patient was readmitted early (within 30 days) is imbalanced, 11% of patients were readmitted within 30 days.\n",
    "To combat imbalanced data, we opted to **downsample** the 'No' category. This will allow us to achieve a balance ratio closer to 1:1 and improve our binary classification predictions."
   ]
  },
  {
   "cell_type": "code",
   "execution_count": 862,
   "metadata": {},
   "outputs": [
    {
     "data": {
      "text/plain": [
       "0    0.88592\n",
       "1    0.11408\n",
       "Name: readmitted, dtype: float64"
      ]
     },
     "execution_count": 862,
     "metadata": {},
     "output_type": "execute_result"
    }
   ],
   "source": [
    "# Checking for class imbalance\n",
    "df.readmitted.value_counts(normalize = True)"
   ]
  },
  {
   "cell_type": "markdown",
   "metadata": {},
   "source": [
    "# Webscraping ICD-9 Codes & their descriptions"
   ]
  },
  {
   "cell_type": "code",
   "execution_count": 863,
   "metadata": {
    "scrolled": false
   },
   "outputs": [],
   "source": [
    "# Page to scrape\n",
    "page = f'http://www.icd9data.com/2008/Volume1/default.htm'\n",
    "\n",
    "# Make a get request to retrieve the page\n",
    "html_page = requests.get(page)\n",
    "\n",
    "# Pass the page content to beautiful soup for parsing\n",
    "soup = BeautifulSoup(html_page.content, 'html.parser') \n",
    "pretty_soup = soup.prettify()"
   ]
  },
  {
   "cell_type": "code",
   "execution_count": 864,
   "metadata": {
    "scrolled": true
   },
   "outputs": [],
   "source": [
    "# Beautiful soup to retrieve ICD codes & description\n",
    "icd9 = [li.text.split('  ') for li in soup.find('ul').find_all('li')]"
   ]
  },
  {
   "cell_type": "code",
   "execution_count": 865,
   "metadata": {
    "scrolled": true
   },
   "outputs": [],
   "source": [
    "# Converting diagnosis codes into dataframe\n",
    "icd9_df = pd.DataFrame(icd9, columns = ['icd9_range', 'diagnosis_desc'])\n",
    "\n",
    "# Creating a range of values for icd9 codes\n",
    "icd9_df['icd9_range'] = list(icd9_df['icd9_range'].apply(lambda x: x.split('-')))"
   ]
  },
  {
   "cell_type": "code",
   "execution_count": 866,
   "metadata": {
    "scrolled": false
   },
   "outputs": [
    {
     "data": {
      "text/html": [
       "<div>\n",
       "<style scoped>\n",
       "    .dataframe tbody tr th:only-of-type {\n",
       "        vertical-align: middle;\n",
       "    }\n",
       "\n",
       "    .dataframe tbody tr th {\n",
       "        vertical-align: top;\n",
       "    }\n",
       "\n",
       "    .dataframe thead th {\n",
       "        text-align: right;\n",
       "    }\n",
       "</style>\n",
       "<table border=\"1\" class=\"dataframe\">\n",
       "  <thead>\n",
       "    <tr style=\"text-align: right;\">\n",
       "      <th></th>\n",
       "      <th>icd9_range</th>\n",
       "      <th>diagnosis_desc</th>\n",
       "    </tr>\n",
       "  </thead>\n",
       "  <tbody>\n",
       "    <tr>\n",
       "      <th>0</th>\n",
       "      <td>[001, 139]</td>\n",
       "      <td>Infectious And Parasitic Diseases</td>\n",
       "    </tr>\n",
       "    <tr>\n",
       "      <th>1</th>\n",
       "      <td>[140, 239]</td>\n",
       "      <td>Neoplasms</td>\n",
       "    </tr>\n",
       "    <tr>\n",
       "      <th>2</th>\n",
       "      <td>[240, 279]</td>\n",
       "      <td>Endocrine, Nutritional And Metabolic Diseases,...</td>\n",
       "    </tr>\n",
       "    <tr>\n",
       "      <th>3</th>\n",
       "      <td>[280, 289]</td>\n",
       "      <td>Diseases Of The Blood And Blood-Forming Organs</td>\n",
       "    </tr>\n",
       "    <tr>\n",
       "      <th>4</th>\n",
       "      <td>[290, 319]</td>\n",
       "      <td>Mental Disorders</td>\n",
       "    </tr>\n",
       "    <tr>\n",
       "      <th>5</th>\n",
       "      <td>[320, 389]</td>\n",
       "      <td>Diseases Of The Nervous System And Sense Organs</td>\n",
       "    </tr>\n",
       "    <tr>\n",
       "      <th>6</th>\n",
       "      <td>[390, 459]</td>\n",
       "      <td>Diseases Of The Circulatory System</td>\n",
       "    </tr>\n",
       "    <tr>\n",
       "      <th>7</th>\n",
       "      <td>[460, 519]</td>\n",
       "      <td>Diseases Of The Respiratory System</td>\n",
       "    </tr>\n",
       "    <tr>\n",
       "      <th>8</th>\n",
       "      <td>[520, 579]</td>\n",
       "      <td>Diseases Of The Digestive System</td>\n",
       "    </tr>\n",
       "    <tr>\n",
       "      <th>9</th>\n",
       "      <td>[580, 629]</td>\n",
       "      <td>Diseases Of The Genitourinary System</td>\n",
       "    </tr>\n",
       "    <tr>\n",
       "      <th>10</th>\n",
       "      <td>[630, 677]</td>\n",
       "      <td>Complications Of Pregnancy, Childbirth, And Th...</td>\n",
       "    </tr>\n",
       "    <tr>\n",
       "      <th>11</th>\n",
       "      <td>[680, 709]</td>\n",
       "      <td>Diseases Of The Skin And Subcutaneous Tissue</td>\n",
       "    </tr>\n",
       "    <tr>\n",
       "      <th>12</th>\n",
       "      <td>[710, 739]</td>\n",
       "      <td>Diseases Of The Musculoskeletal System And Con...</td>\n",
       "    </tr>\n",
       "    <tr>\n",
       "      <th>13</th>\n",
       "      <td>[740, 759]</td>\n",
       "      <td>Congential Anomalies</td>\n",
       "    </tr>\n",
       "    <tr>\n",
       "      <th>14</th>\n",
       "      <td>[760, 779]</td>\n",
       "      <td>Certain Conditions Originating In The Perinata...</td>\n",
       "    </tr>\n",
       "    <tr>\n",
       "      <th>15</th>\n",
       "      <td>[780, 799]</td>\n",
       "      <td>Symptoms, Signs, And Ill-Defined Conditions</td>\n",
       "    </tr>\n",
       "    <tr>\n",
       "      <th>16</th>\n",
       "      <td>[800, 999]</td>\n",
       "      <td>Injury And Poisoning</td>\n",
       "    </tr>\n",
       "    <tr>\n",
       "      <th>17</th>\n",
       "      <td>[V01, V86]</td>\n",
       "      <td>Supplementary Classification Of Factors Influe...</td>\n",
       "    </tr>\n",
       "    <tr>\n",
       "      <th>18</th>\n",
       "      <td>[E800, E999]</td>\n",
       "      <td>Supplementary Classification Of External Cause...</td>\n",
       "    </tr>\n",
       "  </tbody>\n",
       "</table>\n",
       "</div>"
      ],
      "text/plain": [
       "      icd9_range                                     diagnosis_desc\n",
       "0     [001, 139]                  Infectious And Parasitic Diseases\n",
       "1     [140, 239]                                          Neoplasms\n",
       "2     [240, 279]  Endocrine, Nutritional And Metabolic Diseases,...\n",
       "3     [280, 289]     Diseases Of The Blood And Blood-Forming Organs\n",
       "4     [290, 319]                                   Mental Disorders\n",
       "5     [320, 389]    Diseases Of The Nervous System And Sense Organs\n",
       "6     [390, 459]                 Diseases Of The Circulatory System\n",
       "7     [460, 519]                 Diseases Of The Respiratory System\n",
       "8     [520, 579]                   Diseases Of The Digestive System\n",
       "9     [580, 629]               Diseases Of The Genitourinary System\n",
       "10    [630, 677]  Complications Of Pregnancy, Childbirth, And Th...\n",
       "11    [680, 709]       Diseases Of The Skin And Subcutaneous Tissue\n",
       "12    [710, 739]  Diseases Of The Musculoskeletal System And Con...\n",
       "13    [740, 759]                               Congential Anomalies\n",
       "14    [760, 779]  Certain Conditions Originating In The Perinata...\n",
       "15    [780, 799]        Symptoms, Signs, And Ill-Defined Conditions\n",
       "16    [800, 999]                               Injury And Poisoning\n",
       "17    [V01, V86]  Supplementary Classification Of Factors Influe...\n",
       "18  [E800, E999]  Supplementary Classification Of External Cause..."
      ]
     },
     "execution_count": 866,
     "metadata": {},
     "output_type": "execute_result"
    }
   ],
   "source": [
    "icd9_df"
   ]
  },
  {
   "cell_type": "code",
   "execution_count": 867,
   "metadata": {
    "scrolled": false
   },
   "outputs": [],
   "source": [
    "# Function to map diagnosis codes to the description of group disease they belong to\n",
    "\n",
    "def icd_map(code):\n",
    "    \n",
    "    # Special characters mapping\n",
    "    if str(code)[0] == 'V':\n",
    "        return icd9_df.diagnosis_desc.loc[17]\n",
    "    elif str(code)[0] == 'E':\n",
    "        return icd9_df.diagnosis_desc.loc[18]\n",
    "    \n",
    "    # Replacing question mark into No diagnosis\n",
    "    elif str(code)[0] == '?':\n",
    "        return 'No diagnosis'\n",
    "    \n",
    "    # Numerical codes mapping\n",
    "    else:\n",
    "        code = round(float(code),0)\n",
    "        for i in range(0,19):\n",
    "            if code in range(int(icd9_df.icd9_range[i][0]),int(icd9_df.icd9_range[i][1])+1):\n",
    "                return icd9_df.diagnosis_desc[i]"
   ]
  },
  {
   "cell_type": "code",
   "execution_count": 868,
   "metadata": {},
   "outputs": [],
   "source": [
    "# Feature Engineering - Mapping to ICD9 codes and merging to initial dataframe\n",
    "df['diag1_desc'] = df['diag_1'].apply(icd_map)\n",
    "df['diag2_desc'] = df['diag_2'].apply(icd_map)\n",
    "df['diag3_desc'] = df['diag_3'].apply(icd_map)"
   ]
  },
  {
   "cell_type": "code",
   "execution_count": 869,
   "metadata": {},
   "outputs": [
    {
     "data": {
      "text/html": [
       "<div>\n",
       "<style scoped>\n",
       "    .dataframe tbody tr th:only-of-type {\n",
       "        vertical-align: middle;\n",
       "    }\n",
       "\n",
       "    .dataframe tbody tr th {\n",
       "        vertical-align: top;\n",
       "    }\n",
       "\n",
       "    .dataframe thead th {\n",
       "        text-align: right;\n",
       "    }\n",
       "</style>\n",
       "<table border=\"1\" class=\"dataframe\">\n",
       "  <thead>\n",
       "    <tr style=\"text-align: right;\">\n",
       "      <th></th>\n",
       "      <th>diag1_desc</th>\n",
       "      <th>diag2_desc</th>\n",
       "      <th>diag3_desc</th>\n",
       "    </tr>\n",
       "  </thead>\n",
       "  <tbody>\n",
       "    <tr>\n",
       "      <th>Complications Of Pregnancy, Childbirth, And The Puerperium</th>\n",
       "      <td>663</td>\n",
       "      <td>409</td>\n",
       "      <td>292</td>\n",
       "    </tr>\n",
       "    <tr>\n",
       "      <th>Congential Anomalies</th>\n",
       "      <td>43</td>\n",
       "      <td>95</td>\n",
       "      <td>87</td>\n",
       "    </tr>\n",
       "    <tr>\n",
       "      <th>Diseases Of The Blood And Blood-Forming Organs</th>\n",
       "      <td>1016</td>\n",
       "      <td>2566</td>\n",
       "      <td>2202</td>\n",
       "    </tr>\n",
       "    <tr>\n",
       "      <th>Diseases Of The Circulatory System</th>\n",
       "      <td>26911</td>\n",
       "      <td>27728</td>\n",
       "      <td>26549</td>\n",
       "    </tr>\n",
       "    <tr>\n",
       "      <th>Diseases Of The Digestive System</th>\n",
       "      <td>8130</td>\n",
       "      <td>3478</td>\n",
       "      <td>3142</td>\n",
       "    </tr>\n",
       "    <tr>\n",
       "      <th>Diseases Of The Genitourinary System</th>\n",
       "      <td>4564</td>\n",
       "      <td>7169</td>\n",
       "      <td>5592</td>\n",
       "    </tr>\n",
       "    <tr>\n",
       "      <th>Diseases Of The Musculoskeletal System And Connective Tissue</th>\n",
       "      <td>4417</td>\n",
       "      <td>1603</td>\n",
       "      <td>1716</td>\n",
       "    </tr>\n",
       "    <tr>\n",
       "      <th>Diseases Of The Nervous System And Sense Organs</th>\n",
       "      <td>1100</td>\n",
       "      <td>1157</td>\n",
       "      <td>1562</td>\n",
       "    </tr>\n",
       "    <tr>\n",
       "      <th>Diseases Of The Respiratory System</th>\n",
       "      <td>8903</td>\n",
       "      <td>8782</td>\n",
       "      <td>5825</td>\n",
       "    </tr>\n",
       "    <tr>\n",
       "      <th>Diseases Of The Skin And Subcutaneous Tissue</th>\n",
       "      <td>2257</td>\n",
       "      <td>3264</td>\n",
       "      <td>2213</td>\n",
       "    </tr>\n",
       "    <tr>\n",
       "      <th>Endocrine, Nutritional And Metabolic Diseases, And Immunity Disorders</th>\n",
       "      <td>10196</td>\n",
       "      <td>18576</td>\n",
       "      <td>23228</td>\n",
       "    </tr>\n",
       "    <tr>\n",
       "      <th>Infectious And Parasitic Diseases</th>\n",
       "      <td>2350</td>\n",
       "      <td>1683</td>\n",
       "      <td>1626</td>\n",
       "    </tr>\n",
       "    <tr>\n",
       "      <th>Injury And Poisoning</th>\n",
       "      <td>6271</td>\n",
       "      <td>2178</td>\n",
       "      <td>1729</td>\n",
       "    </tr>\n",
       "    <tr>\n",
       "      <th>Mental Disorders</th>\n",
       "      <td>2009</td>\n",
       "      <td>2367</td>\n",
       "      <td>2774</td>\n",
       "    </tr>\n",
       "    <tr>\n",
       "      <th>Neoplasms</th>\n",
       "      <td>2869</td>\n",
       "      <td>2116</td>\n",
       "      <td>1538</td>\n",
       "    </tr>\n",
       "    <tr>\n",
       "      <th>No diagnosis</th>\n",
       "      <td>18</td>\n",
       "      <td>340</td>\n",
       "      <td>1254</td>\n",
       "    </tr>\n",
       "    <tr>\n",
       "      <th>Supplementary Classification Of External Causes Of Injury And Poisoning</th>\n",
       "      <td>1</td>\n",
       "      <td>634</td>\n",
       "      <td>1064</td>\n",
       "    </tr>\n",
       "    <tr>\n",
       "      <th>Supplementary Classification Of Factors Influencing Health Status And Contact With Health Services</th>\n",
       "      <td>1451</td>\n",
       "      <td>1688</td>\n",
       "      <td>3570</td>\n",
       "    </tr>\n",
       "    <tr>\n",
       "      <th>Symptoms, Signs, And Ill-Defined Conditions</th>\n",
       "      <td>6812</td>\n",
       "      <td>4148</td>\n",
       "      <td>4018</td>\n",
       "    </tr>\n",
       "  </tbody>\n",
       "</table>\n",
       "</div>"
      ],
      "text/plain": [
       "                                                    diag1_desc  diag2_desc  \\\n",
       "Complications Of Pregnancy, Childbirth, And The...         663         409   \n",
       "Congential Anomalies                                        43          95   \n",
       "Diseases Of The Blood And Blood-Forming Organs            1016        2566   \n",
       "Diseases Of The Circulatory System                       26911       27728   \n",
       "Diseases Of The Digestive System                          8130        3478   \n",
       "Diseases Of The Genitourinary System                      4564        7169   \n",
       "Diseases Of The Musculoskeletal System And Conn...        4417        1603   \n",
       "Diseases Of The Nervous System And Sense Organs           1100        1157   \n",
       "Diseases Of The Respiratory System                        8903        8782   \n",
       "Diseases Of The Skin And Subcutaneous Tissue              2257        3264   \n",
       "Endocrine, Nutritional And Metabolic Diseases, ...       10196       18576   \n",
       "Infectious And Parasitic Diseases                         2350        1683   \n",
       "Injury And Poisoning                                      6271        2178   \n",
       "Mental Disorders                                          2009        2367   \n",
       "Neoplasms                                                 2869        2116   \n",
       "No diagnosis                                                18         340   \n",
       "Supplementary Classification Of External Causes...           1         634   \n",
       "Supplementary Classification Of Factors Influen...        1451        1688   \n",
       "Symptoms, Signs, And Ill-Defined Conditions               6812        4148   \n",
       "\n",
       "                                                    diag3_desc  \n",
       "Complications Of Pregnancy, Childbirth, And The...         292  \n",
       "Congential Anomalies                                        87  \n",
       "Diseases Of The Blood And Blood-Forming Organs            2202  \n",
       "Diseases Of The Circulatory System                       26549  \n",
       "Diseases Of The Digestive System                          3142  \n",
       "Diseases Of The Genitourinary System                      5592  \n",
       "Diseases Of The Musculoskeletal System And Conn...        1716  \n",
       "Diseases Of The Nervous System And Sense Organs           1562  \n",
       "Diseases Of The Respiratory System                        5825  \n",
       "Diseases Of The Skin And Subcutaneous Tissue              2213  \n",
       "Endocrine, Nutritional And Metabolic Diseases, ...       23228  \n",
       "Infectious And Parasitic Diseases                         1626  \n",
       "Injury And Poisoning                                      1729  \n",
       "Mental Disorders                                          2774  \n",
       "Neoplasms                                                 1538  \n",
       "No diagnosis                                              1254  \n",
       "Supplementary Classification Of External Causes...        1064  \n",
       "Supplementary Classification Of Factors Influen...        3570  \n",
       "Symptoms, Signs, And Ill-Defined Conditions               4018  "
      ]
     },
     "execution_count": 869,
     "metadata": {},
     "output_type": "execute_result"
    }
   ],
   "source": [
    "# Diagnosis table\n",
    "diagnosis = df[['diag1_desc','diag2_desc','diag3_desc']].apply(pd.Series.value_counts)\n",
    "diagnosis"
   ]
  },
  {
   "cell_type": "code",
   "execution_count": 870,
   "metadata": {
    "scrolled": false
   },
   "outputs": [],
   "source": [
    "# Dropping ICD9 code columns as they are now grouped\n",
    "df = df.drop(['diag_1','diag_2','diag_3'],axis =1)"
   ]
  },
  {
   "cell_type": "code",
   "execution_count": 871,
   "metadata": {
    "scrolled": true
   },
   "outputs": [
    {
     "data": {
      "text/plain": [
       "(89981, 40)"
      ]
     },
     "execution_count": 871,
     "metadata": {},
     "output_type": "execute_result"
    }
   ],
   "source": [
    "df.shape"
   ]
  },
  {
   "cell_type": "markdown",
   "metadata": {},
   "source": [
    "### Grouping drugs by drug class"
   ]
  },
  {
   "cell_type": "code",
   "execution_count": 872,
   "metadata": {},
   "outputs": [],
   "source": [
    "# create a dictionary with the different medication families for each diabetes drug so that\n",
    "# we can manipulate these columns and narrow down the amount of features we are using\n",
    "drug_classes = {'biguanides' : ['metformin', 'glyburide-metformin', 'glipizide-metformin'], \n",
    "                'meglitinides':['repaglinide','nateglinide'], \n",
    "                'sulfonylureas': ['chlorpropamide','glimepiride','glipizide', 'glyburide','tolbutamide', 'tolazamide','glyburide-metformin', 'glipizide-metformin'], \n",
    "                'thiazolidinediones': ['pioglitazone','rosiglitazone'], \n",
    "                'alpha_glucosidase_inhibitors': ['acarbose', 'miglitol'], \n",
    "                'insulins': ['insulin']}\n",
    "\n",
    "#Create dictionarty with our keys as the data found in our medication columns and the values of each key as a Bool  \n",
    "replaced = {'Steady': True, 'Up': True, 'Down': True, 'No': False} \n",
    "\n",
    "\n",
    "#Iterate through and classify our patients as either on our off each medication, by changing our values for 'Down, Up, Steady' to True and our value for 'No' as False\n",
    "for column in df.iloc[:,18:34]:\n",
    "    df[column] = df[column].replace(to_replace = replaced, value = None)"
   ]
  },
  {
   "cell_type": "code",
   "execution_count": 873,
   "metadata": {},
   "outputs": [],
   "source": [
    "# need to create new dummy variable column for each drug class family and \n",
    "# have it equal true if the individual is on a medication for any drug within that family\n",
    "\n",
    "df['biguanides'] = df[(df['metformin'] == True) | (df['glyburide-metformin'] == True) | (df['glipizide-metformin'] == True)].any(axis=1)\n",
    "df['biguanides'] = df['biguanides'].fillna(False) \n",
    "\n",
    "\n",
    "# create a conditional statement\n",
    "df['meglitinides'] = df[(df['repaglinide'] == True) | (df['nateglinide'] == True)].any(axis=1)\n",
    "df['meglitinides'] = df['meglitinides'].fillna(False) \n",
    "\n",
    "\n",
    "df['sulfonylureas'] = df[(df['chlorpropamide'] == True) | (df['glimepiride'] == True) | (df['glipizide']==True) | (df['glyburide'] == True) | (df['tolbutamide'] == True) | (df['tolazamide'] == True) | (df['glyburide-metformin'] == True) | (df['glipizide-metformin'] == True)].any(axis=1) \n",
    "df['sulfonylureas'] = df['sulfonylureas'].fillna(False)                                                            \n",
    "                                            \n",
    "\n",
    "df['thiazolidinediones'] = df[(df['pioglitazone'] == True) | (df['rosiglitazone'] == True) | (df['glipizide'] == True)].any(axis=1)\n",
    "df['thiazolidinediones'] = df['thiazolidinediones'].fillna(False)     \n",
    "\n",
    "\n",
    "df['alpha_glucosidase_inhibitors'] = df[(df['acarbose'] == True) | (df['miglitol'] == True)].any(axis=1)\n",
    "df['alpha_glucosidase_inhibitors'] = df['alpha_glucosidase_inhibitors'].fillna(False)\n",
    "\n",
    "\n",
    "df['insulins'] = df[(df['insulin'] == True)].any(axis=1) \n",
    "df['insulins'] = df['insulins'].fillna(False)  \n",
    "\n",
    "\n",
    "df = df.drop(df.iloc[:,18:34], axis =1)\n"
   ]
  },
  {
   "cell_type": "markdown",
   "metadata": {},
   "source": [
    "Cleaning Medical specialty column"
   ]
  },
  {
   "cell_type": "code",
   "execution_count": 874,
   "metadata": {},
   "outputs": [
    {
     "data": {
      "text/plain": [
       "Not specified                            True\n",
       "InternalMedicine                         True\n",
       "Emergency/Trauma                         True\n",
       "Family/GeneralPractice                   True\n",
       "Cardiology                               True\n",
       "Surgery-General                          True\n",
       "Orthopedics                              True\n",
       "Nephrology                               True\n",
       "Radiologist                              True\n",
       "Orthopedics-Reconstructive               True\n",
       "Psychiatry                               True\n",
       "Pulmonology                              True\n",
       "Surgery-Cardiovascular/Thoracic          True\n",
       "ObstetricsandGynecology                  True\n",
       "Urology                                  True\n",
       "Surgery-Vascular                        False\n",
       "Gastroenterology                        False\n",
       "Surgery-Neuro                           False\n",
       "PhysicalMedicineandRehabilitation       False\n",
       "Oncology                                False\n",
       "Pediatrics                              False\n",
       "Neurology                               False\n",
       "Pediatrics-Endocrinology                False\n",
       "Otolaryngology                          False\n",
       "Endocrinology                           False\n",
       "Psychology                              False\n",
       "Podiatry                                False\n",
       "Surgery-Cardiovascular                  False\n",
       "Surgery-Thoracic                        False\n",
       "Pediatrics-CriticalCare                 False\n",
       "                                        ...  \n",
       "Pediatrics-Pulmonology                  False\n",
       "Obsterics&Gynecology-GynecologicOnco    False\n",
       "Obstetrics                              False\n",
       "Anesthesiology-Pediatric                False\n",
       "Rheumatology                            False\n",
       "Pathology                               False\n",
       "OutreachServices                        False\n",
       "Anesthesiology                          False\n",
       "Pediatrics-Neurology                    False\n",
       "Surgery-Colon&Rectal                    False\n",
       "Surgery-Pediatric                       False\n",
       "Endocrinology-Metabolism                False\n",
       "PhysicianNotFound                       False\n",
       "Surgery-Maxillofacial                   False\n",
       "Cardiology-Pediatric                    False\n",
       "Psychiatry-Child/Adolescent             False\n",
       "DCPTEAM                                 False\n",
       "Pediatrics-Hematology-Oncology          False\n",
       "Pediatrics-AllergyandImmunology         False\n",
       "Dentistry                               False\n",
       "Pediatrics-EmergencyMedicine            False\n",
       "Resident                                False\n",
       "Neurophysiology                         False\n",
       "AllergyandImmunology                    False\n",
       "Dermatology                             False\n",
       "Psychiatry-Addictive                    False\n",
       "Proctology                              False\n",
       "Pediatrics-InfectiousDiseases           False\n",
       "SportsMedicine                          False\n",
       "Perinatology                            False\n",
       "Name: medical_specialty, Length: 71, dtype: bool"
      ]
     },
     "execution_count": 874,
     "metadata": {},
     "output_type": "execute_result"
    }
   ],
   "source": [
    "# Identifying Top 10 medical specialties, will group all other specialties into 'Other' category\n",
    "df.medical_specialty.value_counts() > 500"
   ]
  },
  {
   "cell_type": "code",
   "execution_count": 875,
   "metadata": {},
   "outputs": [],
   "source": [
    "#create a list for our top 10 professions which will allow us to group all of our other values into \"Other\" \n",
    "medprofessions = ['Not specified', 'InternalMedicine', 'Emergency/Trauma', 'Family/GeneralPractice', 'Cardiology', 'Surgery-General', 'Orthopedics', 'Nephrology', 'Radiologist', 'Orthopedics-Reconstructive']\n",
    "\n",
    "\n",
    "#replace all values in medical_specialty column that are not considered the most common with the value 'Other'\n",
    "df.loc[~df.medical_specialty.isin(medprofessions), 'medical_specialty'] = 'Other'"
   ]
  },
  {
   "cell_type": "markdown",
   "metadata": {
    "scrolled": false
   },
   "source": [
    "Correlation Heatmap"
   ]
  },
  {
   "cell_type": "code",
   "execution_count": 876,
   "metadata": {
    "scrolled": false
   },
   "outputs": [
    {
     "data": {
      "text/plain": [
       "(array([ 0.5,  1.5,  2.5,  3.5,  4.5,  5.5,  6.5,  7.5,  8.5,  9.5, 10.5,\n",
       "        11.5, 12.5, 13.5, 14.5, 15.5, 16.5, 17.5, 18.5, 19.5, 20.5]),\n",
       " <a list of 21 Text yticklabel objects>)"
      ]
     },
     "execution_count": 876,
     "metadata": {},
     "output_type": "execute_result"
    },
    {
     "data": {
      "image/png": "[encoded data removed]",
      "text/plain": [
       "<Figure size 1008x864 with 2 Axes>"
      ]
     },
     "metadata": {},
     "output_type": "display_data"
    }
   ],
   "source": [
    "# Correlation heatmap\n",
    "mask = np.zeros_like(df.corr(), dtype=np.bool)\n",
    "mask[np.triu_indices_from(mask)] = True\n",
    "sns.set(style=\"white\")\n",
    "\n",
    "plt.figure(figsize=(14,12))\n",
    "\n",
    "sns.heatmap(df.corr(),mask=mask, annot= True, vmax=.3,cmap = 'coolwarm_r', square=True, fmt='.2f',\n",
    "            linewidths=2, cbar_kws={\"shrink\": 0.75})\n",
    "plt.title('Correllation between continuous features', size = 20)\n",
    "plt.xticks(rotation=80, size = 12)\n",
    "plt.yticks(size = 12)"
   ]
  },
  {
   "cell_type": "markdown",
   "metadata": {},
   "source": [
    "# Label Encoding for Categorical Data\n",
    "\n",
    "> Race, Gender, Age, Weight, Payer_code, Diag1_desc, Diag2_desc, Diag3_desc, Maxglu_serum, A1Cresult, Change, DiabetesMed, Medical specialty. Target variable (Readmitted) was changed manually."
   ]
  },
  {
   "cell_type": "code",
   "execution_count": 877,
   "metadata": {},
   "outputs": [],
   "source": [
    "df1 = df.copy(deep=True)"
   ]
  },
  {
   "cell_type": "markdown",
   "metadata": {},
   "source": [
    "Function to identify which diseases were present for each patient by encoding each of disease classifications as dummy columns."
   ]
  },
  {
   "cell_type": "code",
   "execution_count": 878,
   "metadata": {},
   "outputs": [],
   "source": [
    "def make_col_diagnosis(diagnosis):\n",
    "    df1[diagnosis] = df1[(df1['diag1_desc'] == diagnosis) | (df1['diag2_desc'] == diagnosis)\n",
    "                       | (df1['diag3_desc'] == diagnosis)].any(axis=1)\n",
    "    df1[diagnosis] = df1[diagnosis].fillna(False)"
   ]
  },
  {
   "cell_type": "code",
   "execution_count": 879,
   "metadata": {},
   "outputs": [],
   "source": [
    "for diag in diagnosis.T.columns.tolist():\n",
    "    make_col_diagnosis(diag)"
   ]
  },
  {
   "cell_type": "code",
   "execution_count": 880,
   "metadata": {},
   "outputs": [],
   "source": [
    "df1 = df1.drop(['diag1_desc','diag2_desc','diag3_desc'], axis = 1)"
   ]
  },
  {
   "cell_type": "markdown",
   "metadata": {},
   "source": [
    "### Exploring distribution of Continuous variables"
   ]
  },
  {
   "cell_type": "markdown",
   "metadata": {},
   "source": [
    "Age Variable"
   ]
  },
  {
   "cell_type": "code",
   "execution_count": 881,
   "metadata": {},
   "outputs": [
    {
     "data": {
      "text/plain": [
       "OrderedDict([('[0-10)', 146),\n",
       "             ('[10-20)', 640),\n",
       "             ('[20-30)', 1526),\n",
       "             ('[30-40)', 3415),\n",
       "             ('[40-50)', 8697),\n",
       "             ('[50-60)', 15550),\n",
       "             ('[60-70)', 20157),\n",
       "             ('[70-80)', 22689),\n",
       "             ('[80-90)', 14822),\n",
       "             ('[90-100)', 2339)])"
      ]
     },
     "execution_count": 881,
     "metadata": {},
     "output_type": "execute_result"
    }
   ],
   "source": [
    "age_dict = df1.age.value_counts().to_dict()\n",
    "age_dict = collections.OrderedDict(sorted(age_dict.items()))\n",
    "age_dict"
   ]
  },
  {
   "cell_type": "code",
   "execution_count": 882,
   "metadata": {
    "scrolled": false
   },
   "outputs": [
    {
     "data": {
      "image/png": "[encoded data removed]",
      "text/plain": [
       "<Figure size 432x288 with 1 Axes>"
      ]
     },
     "metadata": {},
     "output_type": "display_data"
    },
    {
     "data": {
      "text/plain": [
       "<Figure size 864x576 with 0 Axes>"
      ]
     },
     "metadata": {},
     "output_type": "display_data"
    }
   ],
   "source": [
    "# Horizontal barplot\n",
    "plt.style.use('ggplot')\n",
    "plt.barh(np.arange(10), list(age_dict.values()), align='center', alpha=0.8, color = 'g')\n",
    "plt.yticks(np.arange(10), age_dict.keys())\n",
    "plt.xlabel('Number of admitted patients')\n",
    "plt.ylabel('Age groups')\n",
    "plt.title('Age distribution')\n",
    "plt.figure(figsize=(12,8))\n",
    "plt.show()"
   ]
  },
  {
   "cell_type": "code",
   "execution_count": 883,
   "metadata": {
    "scrolled": false
   },
   "outputs": [
    {
     "data": {
      "text/plain": [
       "<matplotlib.axes._subplots.AxesSubplot at 0x1a3f941940>"
      ]
     },
     "execution_count": 883,
     "metadata": {},
     "output_type": "execute_result"
    },
    {
     "data": {
      "image/png": "[encoded data removed]",
      "text/plain": [
       "<Figure size 1008x648 with 1 Axes>"
      ]
     },
     "metadata": {},
     "output_type": "display_data"
    }
   ],
   "source": [
    "df1[['num_lab_procedures', 'num_procedures',\n",
    "       'num_medications', 'number_outpatient', 'number_emergency',\n",
    "       'number_inpatient', 'number_diagnoses','time_in_hospital']].boxplot(figsize = (14,9))"
   ]
  },
  {
   "cell_type": "code",
   "execution_count": 884,
   "metadata": {
    "scrolled": true
   },
   "outputs": [
    {
     "data": {
      "text/html": [
       "<div>\n",
       "<style scoped>\n",
       "    .dataframe tbody tr th:only-of-type {\n",
       "        vertical-align: middle;\n",
       "    }\n",
       "\n",
       "    .dataframe tbody tr th {\n",
       "        vertical-align: top;\n",
       "    }\n",
       "\n",
       "    .dataframe thead th {\n",
       "        text-align: right;\n",
       "    }\n",
       "</style>\n",
       "<table border=\"1\" class=\"dataframe\">\n",
       "  <thead>\n",
       "    <tr style=\"text-align: right;\">\n",
       "      <th></th>\n",
       "      <th>time_in_hospital</th>\n",
       "      <th>num_lab_procedures</th>\n",
       "      <th>num_procedures</th>\n",
       "      <th>num_medications</th>\n",
       "      <th>number_outpatient</th>\n",
       "      <th>number_emergency</th>\n",
       "      <th>number_inpatient</th>\n",
       "      <th>number_diagnoses</th>\n",
       "    </tr>\n",
       "  </thead>\n",
       "  <tbody>\n",
       "    <tr>\n",
       "      <th>count</th>\n",
       "      <td>89981.000000</td>\n",
       "      <td>89981.000000</td>\n",
       "      <td>89981.000000</td>\n",
       "      <td>89981.000000</td>\n",
       "      <td>89981.000000</td>\n",
       "      <td>89981.000000</td>\n",
       "      <td>89981.000000</td>\n",
       "      <td>89981.000000</td>\n",
       "    </tr>\n",
       "    <tr>\n",
       "      <th>mean</th>\n",
       "      <td>0.098257</td>\n",
       "      <td>0.848865</td>\n",
       "      <td>0.032338</td>\n",
       "      <td>0.361562</td>\n",
       "      <td>0.008611</td>\n",
       "      <td>0.004696</td>\n",
       "      <td>0.014880</td>\n",
       "      <td>0.184836</td>\n",
       "    </tr>\n",
       "    <tr>\n",
       "      <th>std</th>\n",
       "      <td>0.074597</td>\n",
       "      <td>0.209289</td>\n",
       "      <td>0.049407</td>\n",
       "      <td>0.187698</td>\n",
       "      <td>0.032300</td>\n",
       "      <td>0.023019</td>\n",
       "      <td>0.033454</td>\n",
       "      <td>0.117428</td>\n",
       "    </tr>\n",
       "    <tr>\n",
       "      <th>min</th>\n",
       "      <td>0.010694</td>\n",
       "      <td>0.015236</td>\n",
       "      <td>0.000000</td>\n",
       "      <td>0.012619</td>\n",
       "      <td>0.000000</td>\n",
       "      <td>0.000000</td>\n",
       "      <td>0.000000</td>\n",
       "      <td>0.013086</td>\n",
       "    </tr>\n",
       "    <tr>\n",
       "      <th>25%</th>\n",
       "      <td>0.050401</td>\n",
       "      <td>0.853065</td>\n",
       "      <td>0.000000</td>\n",
       "      <td>0.227111</td>\n",
       "      <td>0.000000</td>\n",
       "      <td>0.000000</td>\n",
       "      <td>0.000000</td>\n",
       "      <td>0.118812</td>\n",
       "    </tr>\n",
       "    <tr>\n",
       "      <th>50%</th>\n",
       "      <td>0.080218</td>\n",
       "      <td>0.923921</td>\n",
       "      <td>0.015877</td>\n",
       "      <td>0.321158</td>\n",
       "      <td>0.000000</td>\n",
       "      <td>0.000000</td>\n",
       "      <td>0.000000</td>\n",
       "      <td>0.152193</td>\n",
       "    </tr>\n",
       "    <tr>\n",
       "      <th>75%</th>\n",
       "      <td>0.123384</td>\n",
       "      <td>0.957299</td>\n",
       "      <td>0.047553</td>\n",
       "      <td>0.452911</td>\n",
       "      <td>0.000000</td>\n",
       "      <td>0.000000</td>\n",
       "      <td>0.019448</td>\n",
       "      <td>0.203497</td>\n",
       "    </tr>\n",
       "    <tr>\n",
       "      <th>max</th>\n",
       "      <td>0.954669</td>\n",
       "      <td>0.998793</td>\n",
       "      <td>0.801784</td>\n",
       "      <td>0.992846</td>\n",
       "      <td>0.883672</td>\n",
       "      <td>0.975084</td>\n",
       "      <td>0.770498</td>\n",
       "      <td>0.970143</td>\n",
       "    </tr>\n",
       "  </tbody>\n",
       "</table>\n",
       "</div>"
      ],
      "text/plain": [
       "       time_in_hospital  num_lab_procedures  num_procedures  num_medications  \\\n",
       "count      89981.000000        89981.000000    89981.000000     89981.000000   \n",
       "mean           0.098257            0.848865        0.032338         0.361562   \n",
       "std            0.074597            0.209289        0.049407         0.187698   \n",
       "min            0.010694            0.015236        0.000000         0.012619   \n",
       "25%            0.050401            0.853065        0.000000         0.227111   \n",
       "50%            0.080218            0.923921        0.015877         0.321158   \n",
       "75%            0.123384            0.957299        0.047553         0.452911   \n",
       "max            0.954669            0.998793        0.801784         0.992846   \n",
       "\n",
       "       number_outpatient  number_emergency  number_inpatient  number_diagnoses  \n",
       "count       89981.000000      89981.000000      89981.000000      89981.000000  \n",
       "mean            0.008611          0.004696          0.014880          0.184836  \n",
       "std             0.032300          0.023019          0.033454          0.117428  \n",
       "min             0.000000          0.000000          0.000000          0.013086  \n",
       "25%             0.000000          0.000000          0.000000          0.118812  \n",
       "50%             0.000000          0.000000          0.000000          0.152193  \n",
       "75%             0.000000          0.000000          0.019448          0.203497  \n",
       "max             0.883672          0.975084          0.770498          0.970143  "
      ]
     },
     "execution_count": 884,
     "metadata": {},
     "output_type": "execute_result"
    }
   ],
   "source": [
    "# these are the Numerical columns that need scaling\n",
    "X_scale = ['time_in_hospital','num_lab_procedures', 'num_procedures',\n",
    "       'num_medications', 'number_outpatient', 'number_emergency',\n",
    "       'number_inpatient', 'number_diagnoses']\n",
    "\n",
    "# instantiate our Standard Scaler object \n",
    "scale = Normalizer()\n",
    "\n",
    "# scale our values\n",
    "df1[X_scale] = scale.fit_transform(df[X_scale])\n",
    "\n",
    "df1[X_scale].describe()"
   ]
  },
  {
   "cell_type": "code",
   "execution_count": 885,
   "metadata": {},
   "outputs": [
    {
     "data": {
      "text/plain": [
       "<matplotlib.axes._subplots.AxesSubplot at 0x1a7bc8ec18>"
      ]
     },
     "execution_count": 885,
     "metadata": {},
     "output_type": "execute_result"
    },
    {
     "data": {
      "image/png": "[encoded data removed]",
      "text/plain": [
       "<Figure size 1008x648 with 1 Axes>"
      ]
     },
     "metadata": {},
     "output_type": "display_data"
    }
   ],
   "source": [
    "df1[X_scale].boxplot(figsize = (14,9))"
   ]
  },
  {
   "cell_type": "markdown",
   "metadata": {},
   "source": [
    "### One-Hot Encoding for Categorical columns"
   ]
  },
  {
   "cell_type": "code",
   "execution_count": 886,
   "metadata": {},
   "outputs": [],
   "source": [
    "# Creating Dummy variables for all the following categorical columns\n",
    "\n",
    "X_1hot = ['age','race', 'weight', 'admission_type_id',\n",
    "       'discharge_disposition_id', 'admission_source_id',\n",
    "       'medical_specialty', 'max_glu_serum', 'A1Cresult']\n",
    "\n",
    "dummies_1 = pd.get_dummies(df1['age'], prefix = 'age', drop_first = True).rename(columns=lambda x: '_' + str(x))\n",
    "dummies_2 = pd.get_dummies(df1['race'],prefix = 'race', drop_first = True).rename(columns=lambda x: '_' + str(x))\n",
    "dummies_3 = pd.get_dummies(df1['weight'],prefix = 'weight', drop_first = True).rename(columns=lambda x: '_' + str(x))\n",
    "dummies_4 = pd.get_dummies(df1['admission_type_id'],prefix = 'admission_type', drop_first = True).rename(columns=lambda x: '_' + str(x))\n",
    "dummies_5 = pd.get_dummies(df1['discharge_disposition_id'],prefix = 'discharge_disposition', drop_first = True).rename(columns=lambda x: '_' + str(x))\n",
    "dummies_6 = pd.get_dummies(df1['admission_source_id'],prefix = 'admission_source', drop_first = True).rename(columns=lambda x: '_' + str(x))\n",
    "dummies_7 = pd.get_dummies(df1['medical_specialty'],prefix = 'medical_specialty', drop_first = True).rename(columns=lambda x: '_' + str(x))\n",
    "dummies_8 = pd.get_dummies(df1['max_glu_serum'],prefix = 'max_glu_serum', drop_first = True).rename(columns=lambda x: '_' + str(x))\n",
    "dummies_9 = pd.get_dummies(df1['A1Cresult'],prefix = 'A1Cresult', drop_first = True).rename(columns=lambda x: '_' + str(x))"
   ]
  },
  {
   "cell_type": "code",
   "execution_count": 887,
   "metadata": {},
   "outputs": [],
   "source": [
    "# Adding dummy columns to Dataframe\n",
    "dummies = [dummies_1,dummies_2,dummies_3,dummies_4,dummies_5,dummies_6,dummies_7,dummies_8,dummies_9]\n",
    "for dummy in dummies:\n",
    "    df1 = pd.concat([df1, dummy], axis=1)"
   ]
  },
  {
   "cell_type": "code",
   "execution_count": 888,
   "metadata": {},
   "outputs": [],
   "source": [
    "# Dropping one-hot encoded columns\n",
    "df1.drop(X_1hot, axis =1, inplace=True)"
   ]
  },
  {
   "cell_type": "code",
   "execution_count": 889,
   "metadata": {
    "scrolled": true
   },
   "outputs": [
    {
     "data": {
      "text/html": [
       "<div>\n",
       "<style scoped>\n",
       "    .dataframe tbody tr th:only-of-type {\n",
       "        vertical-align: middle;\n",
       "    }\n",
       "\n",
       "    .dataframe tbody tr th {\n",
       "        vertical-align: top;\n",
       "    }\n",
       "\n",
       "    .dataframe thead th {\n",
       "        text-align: right;\n",
       "    }\n",
       "</style>\n",
       "<table border=\"1\" class=\"dataframe\">\n",
       "  <thead>\n",
       "    <tr style=\"text-align: right;\">\n",
       "      <th></th>\n",
       "      <th>gender</th>\n",
       "      <th>time_in_hospital</th>\n",
       "      <th>num_lab_procedures</th>\n",
       "      <th>num_procedures</th>\n",
       "      <th>num_medications</th>\n",
       "      <th>number_outpatient</th>\n",
       "      <th>number_emergency</th>\n",
       "      <th>number_inpatient</th>\n",
       "      <th>number_diagnoses</th>\n",
       "      <th>change</th>\n",
       "      <th>...</th>\n",
       "      <th>_medical_specialty_Orthopedics-Reconstructive</th>\n",
       "      <th>_medical_specialty_Other</th>\n",
       "      <th>_medical_specialty_Radiologist</th>\n",
       "      <th>_medical_specialty_Surgery-General</th>\n",
       "      <th>_max_glu_serum_&gt;300</th>\n",
       "      <th>_max_glu_serum_Normal</th>\n",
       "      <th>_max_glu_serum_Not measured</th>\n",
       "      <th>_A1Cresult_&gt;8</th>\n",
       "      <th>_A1Cresult_Normal</th>\n",
       "      <th>_A1Cresult_Not measured</th>\n",
       "    </tr>\n",
       "  </thead>\n",
       "  <tbody>\n",
       "    <tr>\n",
       "      <th>count</th>\n",
       "      <td>89981.000000</td>\n",
       "      <td>89981.000000</td>\n",
       "      <td>89981.000000</td>\n",
       "      <td>89981.000000</td>\n",
       "      <td>89981.000000</td>\n",
       "      <td>89981.000000</td>\n",
       "      <td>89981.000000</td>\n",
       "      <td>89981.000000</td>\n",
       "      <td>89981.000000</td>\n",
       "      <td>89981.000000</td>\n",
       "      <td>...</td>\n",
       "      <td>89981.000000</td>\n",
       "      <td>89981.000000</td>\n",
       "      <td>89981.000000</td>\n",
       "      <td>89981.000000</td>\n",
       "      <td>89981.000000</td>\n",
       "      <td>89981.000000</td>\n",
       "      <td>89981.000000</td>\n",
       "      <td>89981.000000</td>\n",
       "      <td>89981.000000</td>\n",
       "      <td>89981.000000</td>\n",
       "    </tr>\n",
       "    <tr>\n",
       "      <th>mean</th>\n",
       "      <td>0.539381</td>\n",
       "      <td>0.098257</td>\n",
       "      <td>0.848865</td>\n",
       "      <td>0.032338</td>\n",
       "      <td>0.361562</td>\n",
       "      <td>0.008611</td>\n",
       "      <td>0.004696</td>\n",
       "      <td>0.014880</td>\n",
       "      <td>0.184836</td>\n",
       "      <td>0.467165</td>\n",
       "      <td>...</td>\n",
       "      <td>0.008557</td>\n",
       "      <td>0.081606</td>\n",
       "      <td>0.012458</td>\n",
       "      <td>0.027917</td>\n",
       "      <td>0.002878</td>\n",
       "      <td>0.000511</td>\n",
       "      <td>0.996521</td>\n",
       "      <td>0.082940</td>\n",
       "      <td>0.052411</td>\n",
       "      <td>0.825041</td>\n",
       "    </tr>\n",
       "    <tr>\n",
       "      <th>std</th>\n",
       "      <td>0.498450</td>\n",
       "      <td>0.074597</td>\n",
       "      <td>0.209289</td>\n",
       "      <td>0.049407</td>\n",
       "      <td>0.187698</td>\n",
       "      <td>0.032300</td>\n",
       "      <td>0.023019</td>\n",
       "      <td>0.033454</td>\n",
       "      <td>0.117428</td>\n",
       "      <td>0.498923</td>\n",
       "      <td>...</td>\n",
       "      <td>0.092110</td>\n",
       "      <td>0.273765</td>\n",
       "      <td>0.110919</td>\n",
       "      <td>0.164736</td>\n",
       "      <td>0.053574</td>\n",
       "      <td>0.022604</td>\n",
       "      <td>0.058877</td>\n",
       "      <td>0.275793</td>\n",
       "      <td>0.222856</td>\n",
       "      <td>0.379934</td>\n",
       "    </tr>\n",
       "    <tr>\n",
       "      <th>min</th>\n",
       "      <td>0.000000</td>\n",
       "      <td>0.010694</td>\n",
       "      <td>0.015236</td>\n",
       "      <td>0.000000</td>\n",
       "      <td>0.012619</td>\n",
       "      <td>0.000000</td>\n",
       "      <td>0.000000</td>\n",
       "      <td>0.000000</td>\n",
       "      <td>0.013086</td>\n",
       "      <td>0.000000</td>\n",
       "      <td>...</td>\n",
       "      <td>0.000000</td>\n",
       "      <td>0.000000</td>\n",
       "      <td>0.000000</td>\n",
       "      <td>0.000000</td>\n",
       "      <td>0.000000</td>\n",
       "      <td>0.000000</td>\n",
       "      <td>0.000000</td>\n",
       "      <td>0.000000</td>\n",
       "      <td>0.000000</td>\n",
       "      <td>0.000000</td>\n",
       "    </tr>\n",
       "    <tr>\n",
       "      <th>25%</th>\n",
       "      <td>0.000000</td>\n",
       "      <td>0.050401</td>\n",
       "      <td>0.853065</td>\n",
       "      <td>0.000000</td>\n",
       "      <td>0.227111</td>\n",
       "      <td>0.000000</td>\n",
       "      <td>0.000000</td>\n",
       "      <td>0.000000</td>\n",
       "      <td>0.118812</td>\n",
       "      <td>0.000000</td>\n",
       "      <td>...</td>\n",
       "      <td>0.000000</td>\n",
       "      <td>0.000000</td>\n",
       "      <td>0.000000</td>\n",
       "      <td>0.000000</td>\n",
       "      <td>0.000000</td>\n",
       "      <td>0.000000</td>\n",
       "      <td>1.000000</td>\n",
       "      <td>0.000000</td>\n",
       "      <td>0.000000</td>\n",
       "      <td>1.000000</td>\n",
       "    </tr>\n",
       "    <tr>\n",
       "      <th>50%</th>\n",
       "      <td>1.000000</td>\n",
       "      <td>0.080218</td>\n",
       "      <td>0.923921</td>\n",
       "      <td>0.015877</td>\n",
       "      <td>0.321158</td>\n",
       "      <td>0.000000</td>\n",
       "      <td>0.000000</td>\n",
       "      <td>0.000000</td>\n",
       "      <td>0.152193</td>\n",
       "      <td>0.000000</td>\n",
       "      <td>...</td>\n",
       "      <td>0.000000</td>\n",
       "      <td>0.000000</td>\n",
       "      <td>0.000000</td>\n",
       "      <td>0.000000</td>\n",
       "      <td>0.000000</td>\n",
       "      <td>0.000000</td>\n",
       "      <td>1.000000</td>\n",
       "      <td>0.000000</td>\n",
       "      <td>0.000000</td>\n",
       "      <td>1.000000</td>\n",
       "    </tr>\n",
       "    <tr>\n",
       "      <th>75%</th>\n",
       "      <td>1.000000</td>\n",
       "      <td>0.123384</td>\n",
       "      <td>0.957299</td>\n",
       "      <td>0.047553</td>\n",
       "      <td>0.452911</td>\n",
       "      <td>0.000000</td>\n",
       "      <td>0.000000</td>\n",
       "      <td>0.019448</td>\n",
       "      <td>0.203497</td>\n",
       "      <td>1.000000</td>\n",
       "      <td>...</td>\n",
       "      <td>0.000000</td>\n",
       "      <td>0.000000</td>\n",
       "      <td>0.000000</td>\n",
       "      <td>0.000000</td>\n",
       "      <td>0.000000</td>\n",
       "      <td>0.000000</td>\n",
       "      <td>1.000000</td>\n",
       "      <td>0.000000</td>\n",
       "      <td>0.000000</td>\n",
       "      <td>1.000000</td>\n",
       "    </tr>\n",
       "    <tr>\n",
       "      <th>max</th>\n",
       "      <td>1.000000</td>\n",
       "      <td>0.954669</td>\n",
       "      <td>0.998793</td>\n",
       "      <td>0.801784</td>\n",
       "      <td>0.992846</td>\n",
       "      <td>0.883672</td>\n",
       "      <td>0.975084</td>\n",
       "      <td>0.770498</td>\n",
       "      <td>0.970143</td>\n",
       "      <td>1.000000</td>\n",
       "      <td>...</td>\n",
       "      <td>1.000000</td>\n",
       "      <td>1.000000</td>\n",
       "      <td>1.000000</td>\n",
       "      <td>1.000000</td>\n",
       "      <td>1.000000</td>\n",
       "      <td>1.000000</td>\n",
       "      <td>1.000000</td>\n",
       "      <td>1.000000</td>\n",
       "      <td>1.000000</td>\n",
       "      <td>1.000000</td>\n",
       "    </tr>\n",
       "  </tbody>\n",
       "</table>\n",
       "<p>8 rows × 86 columns</p>\n",
       "</div>"
      ],
      "text/plain": [
       "             gender  time_in_hospital  num_lab_procedures  num_procedures  \\\n",
       "count  89981.000000      89981.000000        89981.000000    89981.000000   \n",
       "mean       0.539381          0.098257            0.848865        0.032338   \n",
       "std        0.498450          0.074597            0.209289        0.049407   \n",
       "min        0.000000          0.010694            0.015236        0.000000   \n",
       "25%        0.000000          0.050401            0.853065        0.000000   \n",
       "50%        1.000000          0.080218            0.923921        0.015877   \n",
       "75%        1.000000          0.123384            0.957299        0.047553   \n",
       "max        1.000000          0.954669            0.998793        0.801784   \n",
       "\n",
       "       num_medications  number_outpatient  number_emergency  number_inpatient  \\\n",
       "count     89981.000000       89981.000000      89981.000000      89981.000000   \n",
       "mean          0.361562           0.008611          0.004696          0.014880   \n",
       "std           0.187698           0.032300          0.023019          0.033454   \n",
       "min           0.012619           0.000000          0.000000          0.000000   \n",
       "25%           0.227111           0.000000          0.000000          0.000000   \n",
       "50%           0.321158           0.000000          0.000000          0.000000   \n",
       "75%           0.452911           0.000000          0.000000          0.019448   \n",
       "max           0.992846           0.883672          0.975084          0.770498   \n",
       "\n",
       "       number_diagnoses        change           ...             \\\n",
       "count      89981.000000  89981.000000           ...              \n",
       "mean           0.184836      0.467165           ...              \n",
       "std            0.117428      0.498923           ...              \n",
       "min            0.013086      0.000000           ...              \n",
       "25%            0.118812      0.000000           ...              \n",
       "50%            0.152193      0.000000           ...              \n",
       "75%            0.203497      1.000000           ...              \n",
       "max            0.970143      1.000000           ...              \n",
       "\n",
       "       _medical_specialty_Orthopedics-Reconstructive  \\\n",
       "count                                   89981.000000   \n",
       "mean                                        0.008557   \n",
       "std                                         0.092110   \n",
       "min                                         0.000000   \n",
       "25%                                         0.000000   \n",
       "50%                                         0.000000   \n",
       "75%                                         0.000000   \n",
       "max                                         1.000000   \n",
       "\n",
       "       _medical_specialty_Other  _medical_specialty_Radiologist  \\\n",
       "count              89981.000000                    89981.000000   \n",
       "mean                   0.081606                        0.012458   \n",
       "std                    0.273765                        0.110919   \n",
       "min                    0.000000                        0.000000   \n",
       "25%                    0.000000                        0.000000   \n",
       "50%                    0.000000                        0.000000   \n",
       "75%                    0.000000                        0.000000   \n",
       "max                    1.000000                        1.000000   \n",
       "\n",
       "       _medical_specialty_Surgery-General  _max_glu_serum_>300  \\\n",
       "count                        89981.000000         89981.000000   \n",
       "mean                             0.027917             0.002878   \n",
       "std                              0.164736             0.053574   \n",
       "min                              0.000000             0.000000   \n",
       "25%                              0.000000             0.000000   \n",
       "50%                              0.000000             0.000000   \n",
       "75%                              0.000000             0.000000   \n",
       "max                              1.000000             1.000000   \n",
       "\n",
       "       _max_glu_serum_Normal  _max_glu_serum_Not measured  _A1Cresult_>8  \\\n",
       "count           89981.000000                 89981.000000   89981.000000   \n",
       "mean                0.000511                     0.996521       0.082940   \n",
       "std                 0.022604                     0.058877       0.275793   \n",
       "min                 0.000000                     0.000000       0.000000   \n",
       "25%                 0.000000                     1.000000       0.000000   \n",
       "50%                 0.000000                     1.000000       0.000000   \n",
       "75%                 0.000000                     1.000000       0.000000   \n",
       "max                 1.000000                     1.000000       1.000000   \n",
       "\n",
       "       _A1Cresult_Normal  _A1Cresult_Not measured  \n",
       "count       89981.000000             89981.000000  \n",
       "mean            0.052411                 0.825041  \n",
       "std             0.222856                 0.379934  \n",
       "min             0.000000                 0.000000  \n",
       "25%             0.000000                 1.000000  \n",
       "50%             0.000000                 1.000000  \n",
       "75%             0.000000                 1.000000  \n",
       "max             1.000000                 1.000000  \n",
       "\n",
       "[8 rows x 86 columns]"
      ]
     },
     "execution_count": 889,
     "metadata": {},
     "output_type": "execute_result"
    }
   ],
   "source": [
    "df1.describe()"
   ]
  },
  {
   "cell_type": "markdown",
   "metadata": {},
   "source": [
    "### Setting X & y"
   ]
  },
  {
   "cell_type": "code",
   "execution_count": 890,
   "metadata": {},
   "outputs": [],
   "source": [
    "y = df1.readmitted\n",
    "X = df1.drop(['readmitted'], axis = 1)"
   ]
  },
  {
   "cell_type": "code",
   "execution_count": 891,
   "metadata": {
    "scrolled": true
   },
   "outputs": [
    {
     "data": {
      "text/plain": [
       "(89981,)"
      ]
     },
     "execution_count": 891,
     "metadata": {},
     "output_type": "execute_result"
    }
   ],
   "source": [
    "y.shape"
   ]
  },
  {
   "cell_type": "code",
   "execution_count": 892,
   "metadata": {},
   "outputs": [
    {
     "data": {
      "text/plain": [
       "(89981, 110)"
      ]
     },
     "execution_count": 892,
     "metadata": {},
     "output_type": "execute_result"
    }
   ],
   "source": [
    "X.shape"
   ]
  },
  {
   "cell_type": "markdown",
   "metadata": {},
   "source": [
    "### Under sampling y & Setting Training sets for X and y"
   ]
  },
  {
   "cell_type": "code",
   "execution_count": 893,
   "metadata": {},
   "outputs": [],
   "source": [
    "from imblearn.under_sampling import RandomUnderSampler"
   ]
  },
  {
   "cell_type": "code",
   "execution_count": 894,
   "metadata": {},
   "outputs": [],
   "source": [
    "X_resampled, y_resampled = RandomUnderSampler().fit_sample(X,y)"
   ]
  },
  {
   "cell_type": "code",
   "execution_count": 895,
   "metadata": {},
   "outputs": [
    {
     "name": "stdout",
     "output_type": "stream",
     "text": [
      "0    79716\n",
      "1    10265\n",
      "Name: readmitted, dtype: int64\n",
      "1    10265\n",
      "0    10265\n",
      "dtype: int64\n"
     ]
    }
   ],
   "source": [
    "print(y.value_counts()) #Previous original class distribution\n",
    "X_resampled, y_resampled = RandomUnderSampler().fit_sample(X, y) \n",
    "print(pd.Series(y_resampled).value_counts()) #Preview synthetic sample class distribution"
   ]
  },
  {
   "cell_type": "code",
   "execution_count": 896,
   "metadata": {},
   "outputs": [],
   "source": [
    "#split our data into a test and train set\n",
    "X_train, X_test, y_train, y_test = train_test_split(X_resampled,y_resampled,test_size = .25) "
   ]
  },
  {
   "cell_type": "markdown",
   "metadata": {},
   "source": [
    "### Baseline Model: Logistic Regression"
   ]
  },
  {
   "cell_type": "code",
   "execution_count": 908,
   "metadata": {},
   "outputs": [
    {
     "name": "stderr",
     "output_type": "stream",
     "text": [
      "/Users/pacman/anaconda3/lib/python3.7/site-packages/sklearn/linear_model/logistic.py:433: FutureWarning: Default solver will be changed to 'lbfgs' in 0.22. Specify a solver to silence this warning.\n",
      "  FutureWarning)\n"
     ]
    }
   ],
   "source": [
    "from sklearn.linear_model import LogisticRegression\n",
    "#instantiate logreg object\n",
    "logreg = LogisticRegression(fit_intercept= False)\n",
    "\n",
    "#fit our model with our training data\n",
    "model_log = logreg.fit(X_train, y_train) \n",
    "\n",
    "#predict our target variable \n",
    "y_train_hat = model_log.predict(X_train)\n",
    "y_test_hat = model_log.predict(X_test) "
   ]
  },
  {
   "cell_type": "code",
   "execution_count": 933,
   "metadata": {},
   "outputs": [
    {
     "name": "stdout",
     "output_type": "stream",
     "text": [
      "accuracy train score: 0.7075404299538871\n",
      "accuracy test score: 0.5330216247808299\n"
     ]
    },
    {
     "name": "stderr",
     "output_type": "stream",
     "text": [
      "/Users/pacman/anaconda3/lib/python3.7/site-packages/sklearn/linear_model/logistic.py:433: FutureWarning: Default solver will be changed to 'lbfgs' in 0.22. Specify a solver to silence this warning.\n",
      "  FutureWarning)\n"
     ]
    },
    {
     "data": {
      "text/plain": [
       "array([ 0.0798561 , -0.53227549, -0.33570234, ..., -0.44268454,\n",
       "       -0.50653021, -0.06775765])"
      ]
     },
     "execution_count": 933,
     "metadata": {},
     "output_type": "execute_result"
    }
   ],
   "source": [
    "print('accuracy train score:', accuracy_score(y_train, y_train_hat))\n",
    "print('accuracy test score:', accuracy_score(y_test, y_test_hat))\n",
    "y_score = logreg.fit(X_train, y_train).decision_function(X_test)\n",
    "y_score"
   ]
  },
  {
   "cell_type": "code",
   "execution_count": 910,
   "metadata": {
    "scrolled": true
   },
   "outputs": [
    {
     "data": {
      "text/plain": [
       "array([[1704,  837],\n",
       "       [1244, 1348]])"
      ]
     },
     "execution_count": 910,
     "metadata": {},
     "output_type": "execute_result"
    }
   ],
   "source": [
    "confusion_matrix(y_test, y_test_hat)"
   ]
  },
  {
   "cell_type": "code",
   "execution_count": 923,
   "metadata": {},
   "outputs": [
    {
     "data": {
      "text/plain": [
       "0    0.614211\n",
       "1    0.385789\n",
       "Name: residual, dtype: float64"
      ]
     },
     "execution_count": 923,
     "metadata": {},
     "output_type": "execute_result"
    }
   ],
   "source": [
    "# Residuals\n",
    "resid = pd.DataFrame(abs(y_train - y_train_hat), columns=['residual'])\n",
    "resid.residual.value_counts(normalize = True) #  accurate"
   ]
  },
  {
   "cell_type": "markdown",
   "metadata": {},
   "source": [
    "### KNN:  K-Nearest Neighbors"
   ]
  },
  {
   "cell_type": "code",
   "execution_count": 944,
   "metadata": {},
   "outputs": [
    {
     "data": {
      "text/plain": [
       "KNeighborsClassifier(algorithm='auto', leaf_size=30, metric='minkowski',\n",
       "           metric_params=None, n_jobs=None, n_neighbors=20, p=2,\n",
       "           weights='uniform')"
      ]
     },
     "execution_count": 944,
     "metadata": {},
     "output_type": "execute_result"
    }
   ],
   "source": [
    "knn = KNN(n_neighbors = 20)\n",
    "knn.fit(X_train, y_train)\n",
    "\n",
    "#predict our target variable \n",
    "y_train_hat = knn.predict(X_train)\n",
    "y_test_hat = knn.predict(X_test) "
   ]
  },
  {
   "cell_type": "code",
   "execution_count": 936,
   "metadata": {},
   "outputs": [
    {
     "name": "stdout",
     "output_type": "stream",
     "text": [
      "accuracy train score: 0.7075404299538871\n",
      "accuracy test score: 0.5330216247808299\n"
     ]
    },
    {
     "name": "stderr",
     "output_type": "stream",
     "text": [
      "/Users/pacman/anaconda3/lib/python3.7/site-packages/sklearn/linear_model/logistic.py:433: FutureWarning: Default solver will be changed to 'lbfgs' in 0.22. Specify a solver to silence this warning.\n",
      "  FutureWarning)\n"
     ]
    }
   ],
   "source": [
    "print('accuracy train score:', accuracy_score(y_train, y_train_hat))\n",
    "print('accuracy test score:', accuracy_score(y_test, y_test_hat))\n",
    "y_score = knn.fit(X_train, y_train).decision_function(X_test)"
   ]
  },
  {
   "cell_type": "code",
   "execution_count": 932,
   "metadata": {},
   "outputs": [
    {
     "data": {
      "text/plain": [
       "array([[1419, 1122],\n",
       "       [1275, 1317]])"
      ]
     },
     "execution_count": 932,
     "metadata": {},
     "output_type": "execute_result"
    }
   ],
   "source": [
    "confusion_matrix(y_test, y_test_hat)"
   ]
  },
  {
   "cell_type": "code",
   "execution_count": 938,
   "metadata": {},
   "outputs": [
    {
     "data": {
      "text/plain": [
       "0    0.70754\n",
       "1    0.29246\n",
       "Name: residual, dtype: float64"
      ]
     },
     "execution_count": 938,
     "metadata": {},
     "output_type": "execute_result"
    }
   ],
   "source": [
    "# Residuals\n",
    "resid = pd.DataFrame(abs(y_train - y_train_hat), columns=['residual'])\n",
    "resid.residual.value_counts(normalize = True) #  70% accurate"
   ]
  },
  {
   "cell_type": "code",
   "execution_count": null,
   "metadata": {},
   "outputs": [],
   "source": []
  }
 ],
 "metadata": {
  "kernelspec": {
   "display_name": "learn-env",
   "language": "python",
   "name": "learn-env"
  },
  "language_info": {
   "codemirror_mode": {
    "name": "ipython",
    "version": 3
   },
   "file_extension": ".py",
   "mimetype": "text/x-python",
   "name": "python",
   "nbconvert_exporter": "python",
   "pygments_lexer": "ipython3",
   "version": "3.7.2"
  }
 },
 "nbformat": 4,
 "nbformat_minor": 2
}
